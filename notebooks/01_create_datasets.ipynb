{
 "cells": [
  {
   "cell_type": "markdown",
   "id": "5b1b52f8",
   "metadata": {},
   "source": [
    "## In this notebook\n",
    "\n",
    "- Create datasets needed for the analysis."
   ]
  },
  {
   "cell_type": "code",
   "execution_count": 1,
   "id": "ad5e465c",
   "metadata": {},
   "outputs": [],
   "source": [
    "import os\n",
    "import dotenv\n",
    "import duckdb\n",
    "\n",
    "from utils import UHC_PLAYERS"
   ]
  },
  {
   "cell_type": "code",
   "execution_count": 2,
   "id": "7563571b",
   "metadata": {},
   "outputs": [],
   "source": [
    "S3_BUCKET = \"frozen-facts-center-prod\"\n",
    "\n",
    "OUT_FILE_PATH_SHOTS = \"/usr/src/app/data/shots.parquet\"\n",
    "OUT_FILE_PATH_PENALTIES = \"/usr/src/app/data/penalties.parquet\"\n",
    "OUT_FILE_PATH_PLAYERS = \"/usr/src/app/data/players.parquet\""
   ]
  },
  {
   "cell_type": "markdown",
   "id": "a22a2f93",
   "metadata": {},
   "source": [
    "## Create DB connection"
   ]
  },
  {
   "cell_type": "code",
   "execution_count": 3,
   "id": "647b4f50",
   "metadata": {},
   "outputs": [],
   "source": [
    "def get_connection() -> duckdb.duckdb.DuckDBPyConnection:\n",
    "    dotenv.load_dotenv()\n",
    "        \n",
    "    return (\n",
    "        duckdb\n",
    "        .connect(database=\":memory:\", read_only=False)\n",
    "        .execute(\n",
    "            \"SET s3_region='{}'; SET s3_access_key_id='{}'; SET s3_secret_access_key='{}';\".format(\n",
    "                os.environ.get(\"S3_REGION\"),\n",
    "                os.environ.get(\"S3_ACCESS_KEY_ID\"),\n",
    "                os.environ.get(\"S3_SECRET_ACCESS_KEY\"),\n",
    "            )\n",
    "        )\n",
    "    )\n",
    "\n",
    "con = get_connection()"
   ]
  },
  {
   "cell_type": "markdown",
   "id": "58994997",
   "metadata": {},
   "source": [
    "## Create datasets\n",
    "\n",
    "Load data from S3 and save it locally."
   ]
  },
  {
   "cell_type": "code",
   "execution_count": 4,
   "id": "f4d57aed",
   "metadata": {},
   "outputs": [],
   "source": [
    "def create_dataset(query: str, out_file_path: str) -> None:\n",
    "    df = con.execute(query).df()\n",
    "    print(f\"- pulled {len(df):,.0f} rows\")\n",
    "    \n",
    "    df.to_parquet(out_file_path)\n",
    "    print(f\"- saved data into {out_file_path}\")"
   ]
  },
  {
   "cell_type": "markdown",
   "id": "264881f0",
   "metadata": {},
   "source": [
    "### Shots"
   ]
  },
  {
   "cell_type": "code",
   "execution_count": 5,
   "id": "ff5b7e5a",
   "metadata": {},
   "outputs": [
    {
     "data": {
      "application/vnd.jupyter.widget-view+json": {
       "model_id": "1790954a2565452e91c5426593d9e54a",
       "version_major": 2,
       "version_minor": 0
      },
      "text/plain": [
       "FloatProgress(value=0.0, layout=Layout(width='auto'), style=ProgressStyle(bar_color='black'))"
      ]
     },
     "metadata": {},
     "output_type": "display_data"
    },
    {
     "name": "stdout",
     "output_type": "stream",
     "text": [
      "- pulled 600,557 rows\n",
      "- saved data into /usr/src/app/data/shots.parquet\n"
     ]
    }
   ],
   "source": [
    "query = f\"\"\"\n",
    "    select\n",
    "        game_id,\n",
    "        game_date,\n",
    "        away_team_id,\n",
    "        home_team_id,\n",
    "        period,\n",
    "        period_type,\n",
    "        time_in_period,\n",
    "        situation_code,\n",
    "        home_team_defending_side,\n",
    "        event_type,\n",
    "        sort_order,\n",
    "        x_coord,\n",
    "        y_coord,\n",
    "        zone_code,\n",
    "        event_owner_team_id,\n",
    "        shot_type,\n",
    "        shooting_player_id,\n",
    "        goalie_in_net_id\n",
    "    from read_parquet(\"s3://{S3_BUCKET}/base_shots.parquet\")\n",
    "\"\"\"\n",
    "\n",
    "\n",
    "create_dataset(query=query, out_file_path=OUT_FILE_PATH_SHOTS)"
   ]
  },
  {
   "cell_type": "markdown",
   "id": "5636107b",
   "metadata": {},
   "source": [
    "### Penalties"
   ]
  },
  {
   "cell_type": "code",
   "execution_count": 6,
   "id": "32cf90a8",
   "metadata": {},
   "outputs": [
    {
     "name": "stdout",
     "output_type": "stream",
     "text": [
      "- pulled 38,746 rows\n",
      "- saved data into /usr/src/app/data/penalties.parquet\n"
     ]
    }
   ],
   "source": [
    "query = f\"\"\"\n",
    "    select\n",
    "        game_id, \n",
    "        away_team_id, \n",
    "        home_team_id, \n",
    "        sort_order,\n",
    "        event_owner_team_id,\n",
    "        ifnull(served_by_player_id, committed_by_player_id) as served_by_player_id,\n",
    "        period,\n",
    "        period_type,\n",
    "        time_in_period,\n",
    "        duration\n",
    "    from read_parquet(\"s3://{S3_BUCKET}/base_penalties.parquet\")\n",
    "\"\"\"\n",
    "\n",
    "\n",
    "create_dataset(query=query, out_file_path=OUT_FILE_PATH_PENALTIES)"
   ]
  },
  {
   "cell_type": "markdown",
   "id": "97166635",
   "metadata": {},
   "source": [
    "### Utah HC players"
   ]
  },
  {
   "cell_type": "code",
   "execution_count": 7,
   "id": "ba524963",
   "metadata": {},
   "outputs": [
    {
     "name": "stdout",
     "output_type": "stream",
     "text": [
      "- pulled 93 rows\n",
      "- saved data into /usr/src/app/data/players.parquet\n"
     ]
    }
   ],
   "source": [
    "query = f\"\"\"\n",
    "with \n",
    "\n",
    "players as (\n",
    "    select * from read_parquet(\"s3://{S3_BUCKET}/stg_players_general_info.parquet\")\n",
    "),\n",
    "\n",
    "teams as (\n",
    "    select * from read_parquet(\"s3://{S3_BUCKET}/dim_teams.parquet\")\n",
    ")\n",
    "\n",
    "select \n",
    "    player_id, \n",
    "    full_name, \n",
    "    position_code,\n",
    "    season_long, \n",
    "    season_type, \n",
    "    team_full_name, \n",
    "    games_played \n",
    "\n",
    "from players\n",
    "\n",
    "left join teams\n",
    "  on teams.id = players.team_id\n",
    "\n",
    "where players.player_id in ({','.join(str(player_id) for player_id in UHC_PLAYERS)})\n",
    "\n",
    "order by player_id, season_long, season_type\n",
    "\"\"\"\n",
    "\n",
    "\n",
    "create_dataset(query=query, out_file_path=OUT_FILE_PATH_PLAYERS)"
   ]
  },
  {
   "cell_type": "markdown",
   "id": "f0ee82d2",
   "metadata": {},
   "source": [
    "## Results\n",
    "\n",
    "- Datasets created."
   ]
  }
 ],
 "metadata": {
  "kernelspec": {
   "display_name": "Python 3 (ipykernel)",
   "language": "python",
   "name": "python3"
  },
  "language_info": {
   "codemirror_mode": {
    "name": "ipython",
    "version": 3
   },
   "file_extension": ".py",
   "mimetype": "text/x-python",
   "name": "python",
   "nbconvert_exporter": "python",
   "pygments_lexer": "ipython3",
   "version": "3.10.12"
  }
 },
 "nbformat": 4,
 "nbformat_minor": 5
}
